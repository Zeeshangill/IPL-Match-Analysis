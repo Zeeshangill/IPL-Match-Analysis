{
 "cells": [
  {
   "cell_type": "code",
   "execution_count": 79,
   "id": "974a9f7f",
   "metadata": {},
   "outputs": [],
   "source": [
    "#importing libraries\n",
    "import pandas as pd\n",
    "import matplotlib.pyplot as plt\n",
    "import seaborn as sn"
   ]
  },
  {
   "cell_type": "code",
   "execution_count": 80,
   "id": "1e7b8824",
   "metadata": {},
   "outputs": [],
   "source": [
    "#loading IPL data\n",
    "ipl_data = pd.read_csv(r\"C:\\Users\\asdd\\Desktop\\IPl_match_analysis\\IPL_Matches_2008_2022.csv\")"
   ]
  },
  {
   "cell_type": "code",
   "execution_count": 81,
   "id": "070f61e6",
   "metadata": {},
   "outputs": [
    {
     "data": {
      "text/html": [
       "<div>\n",
       "<style scoped>\n",
       "    .dataframe tbody tr th:only-of-type {\n",
       "        vertical-align: middle;\n",
       "    }\n",
       "\n",
       "    .dataframe tbody tr th {\n",
       "        vertical-align: top;\n",
       "    }\n",
       "\n",
       "    .dataframe thead th {\n",
       "        text-align: right;\n",
       "    }\n",
       "</style>\n",
       "<table border=\"1\" class=\"dataframe\">\n",
       "  <thead>\n",
       "    <tr style=\"text-align: right;\">\n",
       "      <th></th>\n",
       "      <th>ID</th>\n",
       "      <th>City</th>\n",
       "      <th>Date</th>\n",
       "      <th>Season</th>\n",
       "      <th>MatchNumber</th>\n",
       "      <th>Team1</th>\n",
       "      <th>Team2</th>\n",
       "      <th>Venue</th>\n",
       "      <th>TossWinner</th>\n",
       "      <th>TossDecision</th>\n",
       "      <th>SuperOver</th>\n",
       "      <th>result</th>\n",
       "      <th>WinningTeam</th>\n",
       "      <th>won_by_runs</th>\n",
       "      <th>won_by_wickets</th>\n",
       "      <th>Player_of_Match</th>\n",
       "      <th>Team1Players</th>\n",
       "      <th>Team2Players</th>\n",
       "      <th>Umpire1</th>\n",
       "      <th>Umpire2</th>\n",
       "    </tr>\n",
       "  </thead>\n",
       "  <tbody>\n",
       "    <tr>\n",
       "      <th>0</th>\n",
       "      <td>1312200</td>\n",
       "      <td>Ahmedabad</td>\n",
       "      <td>29-05-22</td>\n",
       "      <td>2022</td>\n",
       "      <td>Final</td>\n",
       "      <td>Rajasthan Royals</td>\n",
       "      <td>Gujarat Titans</td>\n",
       "      <td>Narendra Modi Stadium, Ahmedabad</td>\n",
       "      <td>Rajasthan Royals</td>\n",
       "      <td>bat</td>\n",
       "      <td>N</td>\n",
       "      <td>Normal</td>\n",
       "      <td>Gujarat Titans</td>\n",
       "      <td>0.0</td>\n",
       "      <td>7.0</td>\n",
       "      <td>HH Pandya</td>\n",
       "      <td>['YBK Jaiswal', 'JC Buttler', 'SV Samson', 'D ...</td>\n",
       "      <td>['WP Saha', 'Shubman Gill', 'MS Wade', 'HH Pan...</td>\n",
       "      <td>CB Gaffaney</td>\n",
       "      <td>Nitin Menon</td>\n",
       "    </tr>\n",
       "    <tr>\n",
       "      <th>1</th>\n",
       "      <td>1312199</td>\n",
       "      <td>Ahmedabad</td>\n",
       "      <td>27-05-22</td>\n",
       "      <td>2022</td>\n",
       "      <td>Qualifier 2</td>\n",
       "      <td>Royal Challengers Bangalore</td>\n",
       "      <td>Rajasthan Royals</td>\n",
       "      <td>Narendra Modi Stadium, Ahmedabad</td>\n",
       "      <td>Rajasthan Royals</td>\n",
       "      <td>field</td>\n",
       "      <td>N</td>\n",
       "      <td>Normal</td>\n",
       "      <td>Rajasthan Royals</td>\n",
       "      <td>0.0</td>\n",
       "      <td>7.0</td>\n",
       "      <td>JC Buttler</td>\n",
       "      <td>['V Kohli', 'F du Plessis', 'RM Patidar', 'GJ ...</td>\n",
       "      <td>['YBK Jaiswal', 'JC Buttler', 'SV Samson', 'D ...</td>\n",
       "      <td>CB Gaffaney</td>\n",
       "      <td>Nitin Menon</td>\n",
       "    </tr>\n",
       "    <tr>\n",
       "      <th>2</th>\n",
       "      <td>1312198</td>\n",
       "      <td>Kolkata</td>\n",
       "      <td>25-05-22</td>\n",
       "      <td>2022</td>\n",
       "      <td>Eliminator</td>\n",
       "      <td>Royal Challengers Bangalore</td>\n",
       "      <td>Lucknow Super Giants</td>\n",
       "      <td>Eden Gardens, Kolkata</td>\n",
       "      <td>Lucknow Super Giants</td>\n",
       "      <td>field</td>\n",
       "      <td>N</td>\n",
       "      <td>Normal</td>\n",
       "      <td>Royal Challengers Bangalore</td>\n",
       "      <td>14.0</td>\n",
       "      <td>0.0</td>\n",
       "      <td>RM Patidar</td>\n",
       "      <td>['V Kohli', 'F du Plessis', 'RM Patidar', 'GJ ...</td>\n",
       "      <td>['Q de Kock', 'KL Rahul', 'M Vohra', 'DJ Hooda...</td>\n",
       "      <td>J Madanagopal</td>\n",
       "      <td>MA Gough</td>\n",
       "    </tr>\n",
       "    <tr>\n",
       "      <th>3</th>\n",
       "      <td>1312197</td>\n",
       "      <td>Kolkata</td>\n",
       "      <td>24-05-22</td>\n",
       "      <td>2022</td>\n",
       "      <td>Qualifier 1</td>\n",
       "      <td>Rajasthan Royals</td>\n",
       "      <td>Gujarat Titans</td>\n",
       "      <td>Eden Gardens, Kolkata</td>\n",
       "      <td>Gujarat Titans</td>\n",
       "      <td>field</td>\n",
       "      <td>N</td>\n",
       "      <td>Normal</td>\n",
       "      <td>Gujarat Titans</td>\n",
       "      <td>0.0</td>\n",
       "      <td>7.0</td>\n",
       "      <td>DA Miller</td>\n",
       "      <td>['YBK Jaiswal', 'JC Buttler', 'SV Samson', 'D ...</td>\n",
       "      <td>['WP Saha', 'Shubman Gill', 'MS Wade', 'HH Pan...</td>\n",
       "      <td>BNJ Oxenford</td>\n",
       "      <td>VK Sharma</td>\n",
       "    </tr>\n",
       "    <tr>\n",
       "      <th>4</th>\n",
       "      <td>1304116</td>\n",
       "      <td>Mumbai</td>\n",
       "      <td>22-05-22</td>\n",
       "      <td>2022</td>\n",
       "      <td>70</td>\n",
       "      <td>Sunrisers Hyderabad</td>\n",
       "      <td>Punjab Kings</td>\n",
       "      <td>Wankhede Stadium, Mumbai</td>\n",
       "      <td>Sunrisers Hyderabad</td>\n",
       "      <td>bat</td>\n",
       "      <td>N</td>\n",
       "      <td>Normal</td>\n",
       "      <td>Punjab Kings</td>\n",
       "      <td>0.0</td>\n",
       "      <td>5.0</td>\n",
       "      <td>Harpreet Brar</td>\n",
       "      <td>['PK Garg', 'Abhishek Sharma', 'RA Tripathi', ...</td>\n",
       "      <td>['JM Bairstow', 'S Dhawan', 'M Shahrukh Khan',...</td>\n",
       "      <td>AK Chaudhary</td>\n",
       "      <td>NA Patwardhan</td>\n",
       "    </tr>\n",
       "  </tbody>\n",
       "</table>\n",
       "</div>"
      ],
      "text/plain": [
       "        ID       City      Date Season  MatchNumber  \\\n",
       "0  1312200  Ahmedabad  29-05-22   2022        Final   \n",
       "1  1312199  Ahmedabad  27-05-22   2022  Qualifier 2   \n",
       "2  1312198    Kolkata  25-05-22   2022   Eliminator   \n",
       "3  1312197    Kolkata  24-05-22   2022  Qualifier 1   \n",
       "4  1304116     Mumbai  22-05-22   2022           70   \n",
       "\n",
       "                         Team1                 Team2  \\\n",
       "0             Rajasthan Royals        Gujarat Titans   \n",
       "1  Royal Challengers Bangalore      Rajasthan Royals   \n",
       "2  Royal Challengers Bangalore  Lucknow Super Giants   \n",
       "3             Rajasthan Royals        Gujarat Titans   \n",
       "4          Sunrisers Hyderabad          Punjab Kings   \n",
       "\n",
       "                              Venue            TossWinner TossDecision  \\\n",
       "0  Narendra Modi Stadium, Ahmedabad      Rajasthan Royals          bat   \n",
       "1  Narendra Modi Stadium, Ahmedabad      Rajasthan Royals        field   \n",
       "2             Eden Gardens, Kolkata  Lucknow Super Giants        field   \n",
       "3             Eden Gardens, Kolkata        Gujarat Titans        field   \n",
       "4          Wankhede Stadium, Mumbai   Sunrisers Hyderabad          bat   \n",
       "\n",
       "  SuperOver  result                  WinningTeam  won_by_runs  won_by_wickets  \\\n",
       "0         N  Normal               Gujarat Titans          0.0             7.0   \n",
       "1         N  Normal             Rajasthan Royals          0.0             7.0   \n",
       "2         N  Normal  Royal Challengers Bangalore         14.0             0.0   \n",
       "3         N  Normal               Gujarat Titans          0.0             7.0   \n",
       "4         N  Normal                 Punjab Kings          0.0             5.0   \n",
       "\n",
       "  Player_of_Match                                       Team1Players  \\\n",
       "0       HH Pandya  ['YBK Jaiswal', 'JC Buttler', 'SV Samson', 'D ...   \n",
       "1      JC Buttler  ['V Kohli', 'F du Plessis', 'RM Patidar', 'GJ ...   \n",
       "2      RM Patidar  ['V Kohli', 'F du Plessis', 'RM Patidar', 'GJ ...   \n",
       "3       DA Miller  ['YBK Jaiswal', 'JC Buttler', 'SV Samson', 'D ...   \n",
       "4   Harpreet Brar  ['PK Garg', 'Abhishek Sharma', 'RA Tripathi', ...   \n",
       "\n",
       "                                        Team2Players        Umpire1  \\\n",
       "0  ['WP Saha', 'Shubman Gill', 'MS Wade', 'HH Pan...    CB Gaffaney   \n",
       "1  ['YBK Jaiswal', 'JC Buttler', 'SV Samson', 'D ...    CB Gaffaney   \n",
       "2  ['Q de Kock', 'KL Rahul', 'M Vohra', 'DJ Hooda...  J Madanagopal   \n",
       "3  ['WP Saha', 'Shubman Gill', 'MS Wade', 'HH Pan...   BNJ Oxenford   \n",
       "4  ['JM Bairstow', 'S Dhawan', 'M Shahrukh Khan',...   AK Chaudhary   \n",
       "\n",
       "         Umpire2  \n",
       "0    Nitin Menon  \n",
       "1    Nitin Menon  \n",
       "2       MA Gough  \n",
       "3      VK Sharma  \n",
       "4  NA Patwardhan  "
      ]
     },
     "execution_count": 81,
     "metadata": {},
     "output_type": "execute_result"
    }
   ],
   "source": [
    "#having a glance at the first five rows\n",
    "ipl_data.head()"
   ]
  },
  {
   "cell_type": "code",
   "execution_count": 82,
   "id": "e8c56fcc",
   "metadata": {},
   "outputs": [
    {
     "data": {
      "text/plain": [
       "(950, 20)"
      ]
     },
     "execution_count": 82,
     "metadata": {},
     "output_type": "execute_result"
    }
   ],
   "source": [
    "#looking at the rows and columns numbers in dataset\n",
    "ipl_data.shape"
   ]
  },
  {
   "cell_type": "code",
   "execution_count": 83,
   "id": "192ea37e",
   "metadata": {},
   "outputs": [
    {
     "data": {
      "text/plain": [
       "AB de Villiers    25\n",
       "CH Gayle          22\n",
       "DA Warner         18\n",
       "RG Sharma         18\n",
       "MS Dhoni          17\n",
       "                  ..\n",
       "CR Brathwaite      1\n",
       "Mohsin Khan        1\n",
       "A Zampa            1\n",
       "BCJ Cutting        1\n",
       "MF Maharoof        1\n",
       "Name: Player_of_Match, Length: 262, dtype: int64"
      ]
     },
     "execution_count": 83,
     "metadata": {},
     "output_type": "execute_result"
    }
   ],
   "source": [
    "#Getting the frequency of winning award of player of match\n",
    "ipl_data[\"Player_of_Match\"].value_counts()"
   ]
  },
  {
   "cell_type": "code",
   "execution_count": 84,
   "id": "b0fd716d",
   "metadata": {},
   "outputs": [
    {
     "data": {
      "text/plain": [
       "AB de Villiers    25\n",
       "CH Gayle          22\n",
       "DA Warner         18\n",
       "RG Sharma         18\n",
       "MS Dhoni          17\n",
       "YK Pathan         16\n",
       "SR Watson         16\n",
       "KA Pollard        14\n",
       "SK Raina          14\n",
       "V Kohli           14\n",
       "Name: Player_of_Match, dtype: int64"
      ]
     },
     "execution_count": 84,
     "metadata": {},
     "output_type": "execute_result"
    }
   ],
   "source": [
    "#Getting top 10 man who palyer of match awards\n",
    "ipl_data[\"Player_of_Match\"].value_counts()[0:10]"
   ]
  },
  {
   "cell_type": "code",
   "execution_count": 85,
   "id": "9c465aa6",
   "metadata": {},
   "outputs": [
    {
     "data": {
      "text/plain": [
       "AB de Villiers    25\n",
       "CH Gayle          22\n",
       "DA Warner         18\n",
       "RG Sharma         18\n",
       "MS Dhoni          17\n",
       "Name: Player_of_Match, dtype: int64"
      ]
     },
     "execution_count": 85,
     "metadata": {},
     "output_type": "execute_result"
    }
   ],
   "source": [
    "#getting top 5 man who won match of players awards\n",
    "ipl_data[\"Player_of_Match\"].value_counts()[0:5]"
   ]
  },
  {
   "cell_type": "code",
   "execution_count": 86,
   "id": "65195f0f",
   "metadata": {},
   "outputs": [
    {
     "data": {
      "text/plain": [
       "['AB de Villiers', 'CH Gayle', 'DA Warner', 'RG Sharma', 'MS Dhoni']"
      ]
     },
     "execution_count": 86,
     "metadata": {},
     "output_type": "execute_result"
    }
   ],
   "source": [
    "list(ipl_data[\"Player_of_Match\"].value_counts()[0:5].keys())"
   ]
  },
  {
   "cell_type": "code",
   "execution_count": 87,
   "id": "ce13822e",
   "metadata": {},
   "outputs": [
    {
     "data": {
      "image/png": "[encoded data removed]",
      "text/plain": [
       "<Figure size 800x500 with 1 Axes>"
      ]
     },
     "metadata": {},
     "output_type": "display_data"
    }
   ],
   "source": [
    "#visualizing top 5 man with match 0f player awards by bar graph\n",
    "plt.figure(figsize =(8,5))\n",
    "plt.bar(list(ipl_data[\"Player_of_Match\"].value_counts()[0:5].keys()), list(ipl_data[\"Player_of_Match\"].value_counts()[0:5]), color='b')\n",
    "plt.show()"
   ]
  },
  {
   "cell_type": "code",
   "execution_count": 88,
   "id": "19f8e289",
   "metadata": {},
   "outputs": [
    {
     "data": {
      "text/plain": [
       "Normal    932\n",
       "Tie        14\n",
       "No          4\n",
       "Name: result, dtype: int64"
      ]
     },
     "execution_count": 88,
     "metadata": {},
     "output_type": "execute_result"
    }
   ],
   "source": [
    "#Getting the frequency of result column\n",
    "ipl_data[\"result\"].value_counts()"
   ]
  },
  {
   "cell_type": "code",
   "execution_count": 89,
   "id": "6373f8f8",
   "metadata": {},
   "outputs": [
    {
     "data": {
      "text/plain": [
       "Mumbai Indians                 123\n",
       "Kolkata Knight Riders          114\n",
       "Chennai Super Kings            109\n",
       "Royal Challengers Bangalore    105\n",
       "Rajasthan Royals                99\n",
       "Kings XI Punjab                 85\n",
       "Delhi Daredevils                80\n",
       "Sunrisers Hyderabad             74\n",
       "Deccan Chargers                 43\n",
       "Delhi Capitals                  36\n",
       "Pune Warriors                   20\n",
       "Gujarat Lions                   15\n",
       "Gujarat Titans                  10\n",
       "Punjab Kings                     9\n",
       "Kochi Tuskers Kerala             8\n",
       "Lucknow Super Giants             7\n",
       "Rising Pune Supergiants          7\n",
       "Rising Pune Supergiant           6\n",
       "Name: TossWinner, dtype: int64"
      ]
     },
     "execution_count": 89,
     "metadata": {},
     "output_type": "execute_result"
    }
   ],
   "source": [
    "#Finding ou the number of toss wins by each team\n",
    "ipl_data[\"TossWinner\"].value_counts()"
   ]
  },
  {
   "cell_type": "code",
   "execution_count": 90,
   "id": "51a20733",
   "metadata": {},
   "outputs": [],
   "source": [
    "#Extracting the records where a team won batting first\n",
    "batting_first = ipl_data[ipl_data[\"won_by_runs\"]!=0]"
   ]
  },
  {
   "cell_type": "code",
   "execution_count": 91,
   "id": "a781ddd1",
   "metadata": {},
   "outputs": [
    {
     "data": {
      "text/html": [
       "<div>\n",
       "<style scoped>\n",
       "    .dataframe tbody tr th:only-of-type {\n",
       "        vertical-align: middle;\n",
       "    }\n",
       "\n",
       "    .dataframe tbody tr th {\n",
       "        vertical-align: top;\n",
       "    }\n",
       "\n",
       "    .dataframe thead th {\n",
       "        text-align: right;\n",
       "    }\n",
       "</style>\n",
       "<table border=\"1\" class=\"dataframe\">\n",
       "  <thead>\n",
       "    <tr style=\"text-align: right;\">\n",
       "      <th></th>\n",
       "      <th>ID</th>\n",
       "      <th>City</th>\n",
       "      <th>Date</th>\n",
       "      <th>Season</th>\n",
       "      <th>MatchNumber</th>\n",
       "      <th>Team1</th>\n",
       "      <th>Team2</th>\n",
       "      <th>Venue</th>\n",
       "      <th>TossWinner</th>\n",
       "      <th>TossDecision</th>\n",
       "      <th>SuperOver</th>\n",
       "      <th>result</th>\n",
       "      <th>WinningTeam</th>\n",
       "      <th>won_by_runs</th>\n",
       "      <th>won_by_wickets</th>\n",
       "      <th>Player_of_Match</th>\n",
       "      <th>Team1Players</th>\n",
       "      <th>Team2Players</th>\n",
       "      <th>Umpire1</th>\n",
       "      <th>Umpire2</th>\n",
       "    </tr>\n",
       "  </thead>\n",
       "  <tbody>\n",
       "    <tr>\n",
       "      <th>2</th>\n",
       "      <td>1312198</td>\n",
       "      <td>Kolkata</td>\n",
       "      <td>25-05-22</td>\n",
       "      <td>2022</td>\n",
       "      <td>Eliminator</td>\n",
       "      <td>Royal Challengers Bangalore</td>\n",
       "      <td>Lucknow Super Giants</td>\n",
       "      <td>Eden Gardens, Kolkata</td>\n",
       "      <td>Lucknow Super Giants</td>\n",
       "      <td>field</td>\n",
       "      <td>N</td>\n",
       "      <td>Normal</td>\n",
       "      <td>Royal Challengers Bangalore</td>\n",
       "      <td>14.0</td>\n",
       "      <td>0.0</td>\n",
       "      <td>RM Patidar</td>\n",
       "      <td>['V Kohli', 'F du Plessis', 'RM Patidar', 'GJ ...</td>\n",
       "      <td>['Q de Kock', 'KL Rahul', 'M Vohra', 'DJ Hooda...</td>\n",
       "      <td>J Madanagopal</td>\n",
       "      <td>MA Gough</td>\n",
       "    </tr>\n",
       "    <tr>\n",
       "      <th>8</th>\n",
       "      <td>1304112</td>\n",
       "      <td>Navi Mumbai</td>\n",
       "      <td>18-05-22</td>\n",
       "      <td>2022</td>\n",
       "      <td>66</td>\n",
       "      <td>Lucknow Super Giants</td>\n",
       "      <td>Kolkata Knight Riders</td>\n",
       "      <td>Dr DY Patil Sports Academy, Mumbai</td>\n",
       "      <td>Lucknow Super Giants</td>\n",
       "      <td>bat</td>\n",
       "      <td>N</td>\n",
       "      <td>Normal</td>\n",
       "      <td>Lucknow Super Giants</td>\n",
       "      <td>2.0</td>\n",
       "      <td>0.0</td>\n",
       "      <td>Q de Kock</td>\n",
       "      <td>['Q de Kock', 'KL Rahul', 'E Lewis', 'DJ Hooda...</td>\n",
       "      <td>['VR Iyer', 'A Tomar', 'N Rana', 'SS Iyer', 'S...</td>\n",
       "      <td>R Pandit</td>\n",
       "      <td>YC Barde</td>\n",
       "    </tr>\n",
       "    <tr>\n",
       "      <th>9</th>\n",
       "      <td>1304111</td>\n",
       "      <td>Mumbai</td>\n",
       "      <td>17-05-22</td>\n",
       "      <td>2022</td>\n",
       "      <td>65</td>\n",
       "      <td>Sunrisers Hyderabad</td>\n",
       "      <td>Mumbai Indians</td>\n",
       "      <td>Wankhede Stadium, Mumbai</td>\n",
       "      <td>Mumbai Indians</td>\n",
       "      <td>field</td>\n",
       "      <td>N</td>\n",
       "      <td>Normal</td>\n",
       "      <td>Sunrisers Hyderabad</td>\n",
       "      <td>3.0</td>\n",
       "      <td>0.0</td>\n",
       "      <td>RA Tripathi</td>\n",
       "      <td>['Abhishek Sharma', 'PK Garg', 'RA Tripathi', ...</td>\n",
       "      <td>['RG Sharma', 'Ishan Kishan', 'DR Sams', 'Tila...</td>\n",
       "      <td>CB Gaffaney</td>\n",
       "      <td>N Pandit</td>\n",
       "    </tr>\n",
       "    <tr>\n",
       "      <th>10</th>\n",
       "      <td>1304110</td>\n",
       "      <td>Navi Mumbai</td>\n",
       "      <td>16-05-22</td>\n",
       "      <td>2022</td>\n",
       "      <td>64</td>\n",
       "      <td>Delhi Capitals</td>\n",
       "      <td>Punjab Kings</td>\n",
       "      <td>Dr DY Patil Sports Academy, Mumbai</td>\n",
       "      <td>Punjab Kings</td>\n",
       "      <td>field</td>\n",
       "      <td>N</td>\n",
       "      <td>Normal</td>\n",
       "      <td>Delhi Capitals</td>\n",
       "      <td>17.0</td>\n",
       "      <td>0.0</td>\n",
       "      <td>SN Thakur</td>\n",
       "      <td>['DA Warner', 'SN Khan', 'MR Marsh', 'Lalit Ya...</td>\n",
       "      <td>['JM Bairstow', 'S Dhawan', 'PBB Rajapaksa', '...</td>\n",
       "      <td>GR Sadashiv Iyer</td>\n",
       "      <td>Nitin Menon</td>\n",
       "    </tr>\n",
       "    <tr>\n",
       "      <th>11</th>\n",
       "      <td>1304109</td>\n",
       "      <td>Mumbai</td>\n",
       "      <td>15-05-22</td>\n",
       "      <td>2022</td>\n",
       "      <td>63</td>\n",
       "      <td>Rajasthan Royals</td>\n",
       "      <td>Lucknow Super Giants</td>\n",
       "      <td>Brabourne Stadium, Mumbai</td>\n",
       "      <td>Rajasthan Royals</td>\n",
       "      <td>bat</td>\n",
       "      <td>N</td>\n",
       "      <td>Normal</td>\n",
       "      <td>Rajasthan Royals</td>\n",
       "      <td>24.0</td>\n",
       "      <td>0.0</td>\n",
       "      <td>TA Boult</td>\n",
       "      <td>['YBK Jaiswal', 'JC Buttler', 'SV Samson', 'D ...</td>\n",
       "      <td>['Q de Kock', 'KL Rahul', 'A Badoni', 'DJ Hood...</td>\n",
       "      <td>PG Pathak</td>\n",
       "      <td>Tapan Sharma</td>\n",
       "    </tr>\n",
       "  </tbody>\n",
       "</table>\n",
       "</div>"
      ],
      "text/plain": [
       "         ID         City      Date Season MatchNumber  \\\n",
       "2   1312198      Kolkata  25-05-22   2022  Eliminator   \n",
       "8   1304112  Navi Mumbai  18-05-22   2022          66   \n",
       "9   1304111       Mumbai  17-05-22   2022          65   \n",
       "10  1304110  Navi Mumbai  16-05-22   2022          64   \n",
       "11  1304109       Mumbai  15-05-22   2022          63   \n",
       "\n",
       "                          Team1                  Team2  \\\n",
       "2   Royal Challengers Bangalore   Lucknow Super Giants   \n",
       "8          Lucknow Super Giants  Kolkata Knight Riders   \n",
       "9           Sunrisers Hyderabad         Mumbai Indians   \n",
       "10               Delhi Capitals           Punjab Kings   \n",
       "11             Rajasthan Royals   Lucknow Super Giants   \n",
       "\n",
       "                                 Venue            TossWinner TossDecision  \\\n",
       "2                Eden Gardens, Kolkata  Lucknow Super Giants        field   \n",
       "8   Dr DY Patil Sports Academy, Mumbai  Lucknow Super Giants          bat   \n",
       "9             Wankhede Stadium, Mumbai        Mumbai Indians        field   \n",
       "10  Dr DY Patil Sports Academy, Mumbai          Punjab Kings        field   \n",
       "11           Brabourne Stadium, Mumbai      Rajasthan Royals          bat   \n",
       "\n",
       "   SuperOver  result                  WinningTeam  won_by_runs  \\\n",
       "2          N  Normal  Royal Challengers Bangalore         14.0   \n",
       "8          N  Normal         Lucknow Super Giants          2.0   \n",
       "9          N  Normal          Sunrisers Hyderabad          3.0   \n",
       "10         N  Normal               Delhi Capitals         17.0   \n",
       "11         N  Normal             Rajasthan Royals         24.0   \n",
       "\n",
       "    won_by_wickets Player_of_Match  \\\n",
       "2              0.0      RM Patidar   \n",
       "8              0.0       Q de Kock   \n",
       "9              0.0     RA Tripathi   \n",
       "10             0.0       SN Thakur   \n",
       "11             0.0        TA Boult   \n",
       "\n",
       "                                         Team1Players  \\\n",
       "2   ['V Kohli', 'F du Plessis', 'RM Patidar', 'GJ ...   \n",
       "8   ['Q de Kock', 'KL Rahul', 'E Lewis', 'DJ Hooda...   \n",
       "9   ['Abhishek Sharma', 'PK Garg', 'RA Tripathi', ...   \n",
       "10  ['DA Warner', 'SN Khan', 'MR Marsh', 'Lalit Ya...   \n",
       "11  ['YBK Jaiswal', 'JC Buttler', 'SV Samson', 'D ...   \n",
       "\n",
       "                                         Team2Players           Umpire1  \\\n",
       "2   ['Q de Kock', 'KL Rahul', 'M Vohra', 'DJ Hooda...     J Madanagopal   \n",
       "8   ['VR Iyer', 'A Tomar', 'N Rana', 'SS Iyer', 'S...          R Pandit   \n",
       "9   ['RG Sharma', 'Ishan Kishan', 'DR Sams', 'Tila...       CB Gaffaney   \n",
       "10  ['JM Bairstow', 'S Dhawan', 'PBB Rajapaksa', '...  GR Sadashiv Iyer   \n",
       "11  ['Q de Kock', 'KL Rahul', 'A Badoni', 'DJ Hood...         PG Pathak   \n",
       "\n",
       "         Umpire2  \n",
       "2       MA Gough  \n",
       "8       YC Barde  \n",
       "9       N Pandit  \n",
       "10   Nitin Menon  \n",
       "11  Tapan Sharma  "
      ]
     },
     "execution_count": 91,
     "metadata": {},
     "output_type": "execute_result"
    }
   ],
   "source": [
    "batting_first.head()"
   ]
  },
  {
   "cell_type": "code",
   "execution_count": 92,
   "id": "2d318dc2",
   "metadata": {},
   "outputs": [
    {
     "data": {
      "image/png": "[encoded data removed]",
      "text/plain": [
       "<Figure size 500x500 with 1 Axes>"
      ]
     },
     "metadata": {},
     "output_type": "display_data"
    }
   ],
   "source": [
    "#Making a Histogram\n",
    "plt.figure(figsize =(5,5))\n",
    "sn.histplot(batting_first[\"won_by_runs\"])\n",
    "plt.title(\"Distribution of Runs\")\n",
    "plt.xlabel(\"Runs\")\n",
    "plt.show()"
   ]
  },
  {
   "cell_type": "code",
   "execution_count": 93,
   "id": "3d3bb261",
   "metadata": {},
   "outputs": [
    {
     "data": {
      "text/plain": [
       "Mumbai Indians                 66\n",
       "Chennai Super Kings            61\n",
       "Royal Challengers Bangalore    48\n",
       "Kolkata Knight Riders          45\n",
       "Kings XI Punjab                40\n",
       "Rajasthan Royals               37\n",
       "Sunrisers Hyderabad            36\n",
       "Delhi Daredevils               25\n",
       "Deccan Chargers                18\n",
       "Delhi Capitals                 13\n",
       "Punjab Kings                    7\n",
       "Lucknow Super Giants            7\n",
       "Pune Warriors                   6\n",
       "Rising Pune Supergiant          5\n",
       "Gujarat Titans                  4\n",
       "Rising Pune Supergiants         2\n",
       "Kochi Tuskers Kerala            2\n",
       "Gujarat Lions                   1\n",
       "Name: WinningTeam, dtype: int64"
      ]
     },
     "execution_count": 93,
     "metadata": {},
     "output_type": "execute_result"
    }
   ],
   "source": [
    "#finding out the number of wins team after batting first\n",
    "batting_first[\"WinningTeam\"].value_counts()"
   ]
  },
  {
   "cell_type": "code",
   "execution_count": 94,
   "id": "a7a93db2",
   "metadata": {},
   "outputs": [
    {
     "data": {
      "image/png": "[encoded data removed]",
      "text/plain": [
       "<Figure size 700x500 with 1 Axes>"
      ]
     },
     "metadata": {},
     "output_type": "display_data"
    }
   ],
   "source": [
    "#making a bar plot for top 5 teams with most wins after batting first\n",
    "plt.figure(figsize =(7,5))\n",
    "plt.bar(list(batting_first[\"WinningTeam\"].value_counts()[0:3].keys()), \n",
    "        list(batting_first[\"WinningTeam\"].value_counts()[0:3]), color=[\"#6b5b95\",\"#d64161\", \"#82b74b\"])\n",
    "plt.title(\"Top 3 Teams\")\n",
    "plt.xlabel(\"Teams\")\n",
    "\n",
    "plt.show()"
   ]
  },
  {
   "cell_type": "code",
   "execution_count": 95,
   "id": "5c2ea6c8",
   "metadata": {},
   "outputs": [
    {
     "data": {
      "image/png": "[encoded data removed]",
      "text/plain": [
       "<Figure size 640x480 with 1 Axes>"
      ]
     },
     "metadata": {},
     "output_type": "display_data"
    }
   ],
   "source": [
    "#Making a Pie Chart\n",
    "plt.pie(list(batting_first[\"WinningTeam\"].value_counts()),\n",
    "       labels=list(batting_first[\"WinningTeam\"].value_counts().keys()), autopct='%0.1f%%')\n",
    "plt.show()"
   ]
  },
  {
   "cell_type": "code",
   "execution_count": 96,
   "id": "01e92e2c",
   "metadata": {},
   "outputs": [],
   "source": [
    "#extracting those records where a team has won after batting first\n",
    "batting_second =ipl_data[ipl_data[\"won_by_wickets\"]!=0]"
   ]
  },
  {
   "cell_type": "code",
   "execution_count": 97,
   "id": "9e75e276",
   "metadata": {},
   "outputs": [
    {
     "data": {
      "text/html": [
       "<div>\n",
       "<style scoped>\n",
       "    .dataframe tbody tr th:only-of-type {\n",
       "        vertical-align: middle;\n",
       "    }\n",
       "\n",
       "    .dataframe tbody tr th {\n",
       "        vertical-align: top;\n",
       "    }\n",
       "\n",
       "    .dataframe thead th {\n",
       "        text-align: right;\n",
       "    }\n",
       "</style>\n",
       "<table border=\"1\" class=\"dataframe\">\n",
       "  <thead>\n",
       "    <tr style=\"text-align: right;\">\n",
       "      <th></th>\n",
       "      <th>ID</th>\n",
       "      <th>City</th>\n",
       "      <th>Date</th>\n",
       "      <th>Season</th>\n",
       "      <th>MatchNumber</th>\n",
       "      <th>Team1</th>\n",
       "      <th>Team2</th>\n",
       "      <th>Venue</th>\n",
       "      <th>TossWinner</th>\n",
       "      <th>TossDecision</th>\n",
       "      <th>SuperOver</th>\n",
       "      <th>result</th>\n",
       "      <th>WinningTeam</th>\n",
       "      <th>won_by_runs</th>\n",
       "      <th>won_by_wickets</th>\n",
       "      <th>Player_of_Match</th>\n",
       "      <th>Team1Players</th>\n",
       "      <th>Team2Players</th>\n",
       "      <th>Umpire1</th>\n",
       "      <th>Umpire2</th>\n",
       "    </tr>\n",
       "  </thead>\n",
       "  <tbody>\n",
       "    <tr>\n",
       "      <th>0</th>\n",
       "      <td>1312200</td>\n",
       "      <td>Ahmedabad</td>\n",
       "      <td>29-05-22</td>\n",
       "      <td>2022</td>\n",
       "      <td>Final</td>\n",
       "      <td>Rajasthan Royals</td>\n",
       "      <td>Gujarat Titans</td>\n",
       "      <td>Narendra Modi Stadium, Ahmedabad</td>\n",
       "      <td>Rajasthan Royals</td>\n",
       "      <td>bat</td>\n",
       "      <td>N</td>\n",
       "      <td>Normal</td>\n",
       "      <td>Gujarat Titans</td>\n",
       "      <td>0.0</td>\n",
       "      <td>7.0</td>\n",
       "      <td>HH Pandya</td>\n",
       "      <td>['YBK Jaiswal', 'JC Buttler', 'SV Samson', 'D ...</td>\n",
       "      <td>['WP Saha', 'Shubman Gill', 'MS Wade', 'HH Pan...</td>\n",
       "      <td>CB Gaffaney</td>\n",
       "      <td>Nitin Menon</td>\n",
       "    </tr>\n",
       "    <tr>\n",
       "      <th>1</th>\n",
       "      <td>1312199</td>\n",
       "      <td>Ahmedabad</td>\n",
       "      <td>27-05-22</td>\n",
       "      <td>2022</td>\n",
       "      <td>Qualifier 2</td>\n",
       "      <td>Royal Challengers Bangalore</td>\n",
       "      <td>Rajasthan Royals</td>\n",
       "      <td>Narendra Modi Stadium, Ahmedabad</td>\n",
       "      <td>Rajasthan Royals</td>\n",
       "      <td>field</td>\n",
       "      <td>N</td>\n",
       "      <td>Normal</td>\n",
       "      <td>Rajasthan Royals</td>\n",
       "      <td>0.0</td>\n",
       "      <td>7.0</td>\n",
       "      <td>JC Buttler</td>\n",
       "      <td>['V Kohli', 'F du Plessis', 'RM Patidar', 'GJ ...</td>\n",
       "      <td>['YBK Jaiswal', 'JC Buttler', 'SV Samson', 'D ...</td>\n",
       "      <td>CB Gaffaney</td>\n",
       "      <td>Nitin Menon</td>\n",
       "    </tr>\n",
       "    <tr>\n",
       "      <th>3</th>\n",
       "      <td>1312197</td>\n",
       "      <td>Kolkata</td>\n",
       "      <td>24-05-22</td>\n",
       "      <td>2022</td>\n",
       "      <td>Qualifier 1</td>\n",
       "      <td>Rajasthan Royals</td>\n",
       "      <td>Gujarat Titans</td>\n",
       "      <td>Eden Gardens, Kolkata</td>\n",
       "      <td>Gujarat Titans</td>\n",
       "      <td>field</td>\n",
       "      <td>N</td>\n",
       "      <td>Normal</td>\n",
       "      <td>Gujarat Titans</td>\n",
       "      <td>0.0</td>\n",
       "      <td>7.0</td>\n",
       "      <td>DA Miller</td>\n",
       "      <td>['YBK Jaiswal', 'JC Buttler', 'SV Samson', 'D ...</td>\n",
       "      <td>['WP Saha', 'Shubman Gill', 'MS Wade', 'HH Pan...</td>\n",
       "      <td>BNJ Oxenford</td>\n",
       "      <td>VK Sharma</td>\n",
       "    </tr>\n",
       "    <tr>\n",
       "      <th>4</th>\n",
       "      <td>1304116</td>\n",
       "      <td>Mumbai</td>\n",
       "      <td>22-05-22</td>\n",
       "      <td>2022</td>\n",
       "      <td>70</td>\n",
       "      <td>Sunrisers Hyderabad</td>\n",
       "      <td>Punjab Kings</td>\n",
       "      <td>Wankhede Stadium, Mumbai</td>\n",
       "      <td>Sunrisers Hyderabad</td>\n",
       "      <td>bat</td>\n",
       "      <td>N</td>\n",
       "      <td>Normal</td>\n",
       "      <td>Punjab Kings</td>\n",
       "      <td>0.0</td>\n",
       "      <td>5.0</td>\n",
       "      <td>Harpreet Brar</td>\n",
       "      <td>['PK Garg', 'Abhishek Sharma', 'RA Tripathi', ...</td>\n",
       "      <td>['JM Bairstow', 'S Dhawan', 'M Shahrukh Khan',...</td>\n",
       "      <td>AK Chaudhary</td>\n",
       "      <td>NA Patwardhan</td>\n",
       "    </tr>\n",
       "    <tr>\n",
       "      <th>5</th>\n",
       "      <td>1304115</td>\n",
       "      <td>Mumbai</td>\n",
       "      <td>21-05-22</td>\n",
       "      <td>2022</td>\n",
       "      <td>69</td>\n",
       "      <td>Delhi Capitals</td>\n",
       "      <td>Mumbai Indians</td>\n",
       "      <td>Wankhede Stadium, Mumbai</td>\n",
       "      <td>Mumbai Indians</td>\n",
       "      <td>field</td>\n",
       "      <td>N</td>\n",
       "      <td>Normal</td>\n",
       "      <td>Mumbai Indians</td>\n",
       "      <td>0.0</td>\n",
       "      <td>5.0</td>\n",
       "      <td>JJ Bumrah</td>\n",
       "      <td>['PP Shaw', 'DA Warner', 'MR Marsh', 'RR Pant'...</td>\n",
       "      <td>['Ishan Kishan', 'RG Sharma', 'D Brevis', 'Til...</td>\n",
       "      <td>Nitin Menon</td>\n",
       "      <td>Tapan Sharma</td>\n",
       "    </tr>\n",
       "  </tbody>\n",
       "</table>\n",
       "</div>"
      ],
      "text/plain": [
       "        ID       City      Date Season  MatchNumber  \\\n",
       "0  1312200  Ahmedabad  29-05-22   2022        Final   \n",
       "1  1312199  Ahmedabad  27-05-22   2022  Qualifier 2   \n",
       "3  1312197    Kolkata  24-05-22   2022  Qualifier 1   \n",
       "4  1304116     Mumbai  22-05-22   2022           70   \n",
       "5  1304115     Mumbai  21-05-22   2022           69   \n",
       "\n",
       "                         Team1             Team2  \\\n",
       "0             Rajasthan Royals    Gujarat Titans   \n",
       "1  Royal Challengers Bangalore  Rajasthan Royals   \n",
       "3             Rajasthan Royals    Gujarat Titans   \n",
       "4          Sunrisers Hyderabad      Punjab Kings   \n",
       "5               Delhi Capitals    Mumbai Indians   \n",
       "\n",
       "                              Venue           TossWinner TossDecision  \\\n",
       "0  Narendra Modi Stadium, Ahmedabad     Rajasthan Royals          bat   \n",
       "1  Narendra Modi Stadium, Ahmedabad     Rajasthan Royals        field   \n",
       "3             Eden Gardens, Kolkata       Gujarat Titans        field   \n",
       "4          Wankhede Stadium, Mumbai  Sunrisers Hyderabad          bat   \n",
       "5          Wankhede Stadium, Mumbai       Mumbai Indians        field   \n",
       "\n",
       "  SuperOver  result       WinningTeam  won_by_runs  won_by_wickets  \\\n",
       "0         N  Normal    Gujarat Titans          0.0             7.0   \n",
       "1         N  Normal  Rajasthan Royals          0.0             7.0   \n",
       "3         N  Normal    Gujarat Titans          0.0             7.0   \n",
       "4         N  Normal      Punjab Kings          0.0             5.0   \n",
       "5         N  Normal    Mumbai Indians          0.0             5.0   \n",
       "\n",
       "  Player_of_Match                                       Team1Players  \\\n",
       "0       HH Pandya  ['YBK Jaiswal', 'JC Buttler', 'SV Samson', 'D ...   \n",
       "1      JC Buttler  ['V Kohli', 'F du Plessis', 'RM Patidar', 'GJ ...   \n",
       "3       DA Miller  ['YBK Jaiswal', 'JC Buttler', 'SV Samson', 'D ...   \n",
       "4   Harpreet Brar  ['PK Garg', 'Abhishek Sharma', 'RA Tripathi', ...   \n",
       "5       JJ Bumrah  ['PP Shaw', 'DA Warner', 'MR Marsh', 'RR Pant'...   \n",
       "\n",
       "                                        Team2Players       Umpire1  \\\n",
       "0  ['WP Saha', 'Shubman Gill', 'MS Wade', 'HH Pan...   CB Gaffaney   \n",
       "1  ['YBK Jaiswal', 'JC Buttler', 'SV Samson', 'D ...   CB Gaffaney   \n",
       "3  ['WP Saha', 'Shubman Gill', 'MS Wade', 'HH Pan...  BNJ Oxenford   \n",
       "4  ['JM Bairstow', 'S Dhawan', 'M Shahrukh Khan',...  AK Chaudhary   \n",
       "5  ['Ishan Kishan', 'RG Sharma', 'D Brevis', 'Til...   Nitin Menon   \n",
       "\n",
       "         Umpire2  \n",
       "0    Nitin Menon  \n",
       "1    Nitin Menon  \n",
       "3      VK Sharma  \n",
       "4  NA Patwardhan  \n",
       "5   Tapan Sharma  "
      ]
     },
     "execution_count": 97,
     "metadata": {},
     "output_type": "execute_result"
    }
   ],
   "source": [
    "#looking at the head()\n",
    "batting_second.head()"
   ]
  },
  {
   "cell_type": "code",
   "execution_count": 98,
   "id": "d59bf528",
   "metadata": {},
   "outputs": [
    {
     "data": {
      "image/png": "[encoded data removed]",
      "text/plain": [
       "<Figure size 640x480 with 1 Axes>"
      ]
     },
     "metadata": {},
     "output_type": "display_data"
    }
   ],
   "source": [
    "#making a histogram for frequency of wins number of wickets\n",
    "plt.hist(batting_second[\"won_by_wickets\"],bins=30)\n",
    "plt.show()"
   ]
  },
  {
   "cell_type": "code",
   "execution_count": 99,
   "id": "589add83",
   "metadata": {},
   "outputs": [
    {
     "data": {
      "text/plain": [
       "Kolkata Knight Riders          68\n",
       "Mumbai Indians                 63\n",
       "Chennai Super Kings            60\n",
       "Royal Challengers Bangalore    59\n",
       "Rajasthan Royals               57\n",
       "Kings XI Punjab                45\n",
       "Delhi Daredevils               42\n",
       "Sunrisers Hyderabad            38\n",
       "Delhi Capitals                 20\n",
       "Gujarat Lions                  12\n",
       "Deccan Chargers                11\n",
       "Gujarat Titans                  8\n",
       "Pune Warriors                   6\n",
       "Punjab Kings                    6\n",
       "Rising Pune Supergiant          5\n",
       "Kochi Tuskers Kerala            4\n",
       "Rising Pune Supergiants         3\n",
       "Lucknow Super Giants            2\n",
       "Name: WinningTeam, dtype: int64"
      ]
     },
     "execution_count": 99,
     "metadata": {},
     "output_type": "execute_result"
    }
   ],
   "source": [
    "#Finding out the frequency of numbers of wins each time after batting second\n",
    "batting_second[\"WinningTeam\"].value_counts()"
   ]
  },
  {
   "cell_type": "code",
   "execution_count": 100,
   "id": "d099f846",
   "metadata": {},
   "outputs": [
    {
     "data": {
      "image/png": "[encoded data removed]",
      "text/plain": [
       "<Figure size 600x600 with 1 Axes>"
      ]
     },
     "metadata": {},
     "output_type": "display_data"
    }
   ],
   "source": [
    "#making a barplot for top 3 teams with most wins after batting second\n",
    "plt.figure(figsize=(6,6))\n",
    "plt.bar(list(batting_second[\"WinningTeam\"].value_counts()[0:3].keys()),\n",
    "       list(batting_second[\"WinningTeam\"].value_counts()[0:3]), color=[\"#00A1F1\",\"#FFBB00\",\"#F65314\"])\n",
    "plt.show()"
   ]
  },
  {
   "cell_type": "code",
   "execution_count": 101,
   "id": "6779b4ed",
   "metadata": {},
   "outputs": [
    {
     "data": {
      "image/png": "[encoded data removed]",
      "text/plain": [
       "<Figure size 700x700 with 1 Axes>"
      ]
     },
     "metadata": {},
     "output_type": "display_data"
    }
   ],
   "source": [
    "#Making a pie chart for distribution of most wins after batting second\n",
    "plt.figure(figsize=(7,7))\n",
    "plt.pie(list(batting_second[\"WinningTeam\"].value_counts()), \n",
    "        labels = list(batting_second[\"WinningTeam\"].value_counts().keys()), autopct='%0.1f%%')\n",
    "plt.show()"
   ]
  },
  {
   "cell_type": "code",
   "execution_count": 102,
   "id": "d356109a",
   "metadata": {},
   "outputs": [
    {
     "data": {
      "text/plain": [
       "2013       76\n",
       "2022       74\n",
       "2012       74\n",
       "2011       73\n",
       "2021       60\n",
       "2020/21    60\n",
       "2019       60\n",
       "2018       60\n",
       "2016       60\n",
       "2014       60\n",
       "2009/10    60\n",
       "2017       59\n",
       "2015       59\n",
       "2007/08    58\n",
       "2009       57\n",
       "Name: Season, dtype: int64"
      ]
     },
     "execution_count": 102,
     "metadata": {},
     "output_type": "execute_result"
    }
   ],
   "source": [
    "#Looking at the number of matches played each season\n",
    "ipl_data[\"Season\"].value_counts()"
   ]
  },
  {
   "cell_type": "code",
   "execution_count": 103,
   "id": "82866cb5",
   "metadata": {},
   "outputs": [
    {
     "data": {
      "text/plain": [
       "Mumbai            159\n",
       "Kolkata            79\n",
       "Delhi              78\n",
       "Chennai            67\n",
       "Bangalore          65\n",
       "Hyderabad          64\n",
       "Chandigarh         56\n",
       "Pune               51\n",
       "Jaipur             47\n",
       "Abu Dhabi          37\n",
       "Ahmedabad          19\n",
       "Bengaluru          15\n",
       "Durban             15\n",
       "Visakhapatnam      13\n",
       "Dubai              13\n",
       "Centurion          12\n",
       "Rajkot             10\n",
       "Sharjah            10\n",
       "Dharamsala          9\n",
       "Navi Mumbai         9\n",
       "Indore              9\n",
       "Johannesburg        8\n",
       "Ranchi              7\n",
       "Cuttack             7\n",
       "Port Elizabeth      7\n",
       "Cape Town           7\n",
       "Raipur              6\n",
       "Kochi               5\n",
       "Kanpur              4\n",
       "Nagpur              3\n",
       "Kimberley           3\n",
       "East London         3\n",
       "Bloemfontein        2\n",
       "Name: City, dtype: int64"
      ]
     },
     "execution_count": 103,
     "metadata": {},
     "output_type": "execute_result"
    }
   ],
   "source": [
    "#Looking at the number of matches played in each city\n",
    "ipl_data[\"City\"].value_counts()"
   ]
  },
  {
   "cell_type": "code",
   "execution_count": 104,
   "id": "3ff582b3",
   "metadata": {},
   "outputs": [
    {
     "data": {
      "text/plain": [
       "489"
      ]
     },
     "execution_count": 104,
     "metadata": {},
     "output_type": "execute_result"
    }
   ],
   "source": [
    "#Finding out how many times a team has won match after winning toss\n",
    "import numpy as np\n",
    "np.sum(ipl_data[\"TossWinner\"]==ipl_data[\"WinningTeam\"])"
   ]
  },
  {
   "cell_type": "code",
   "execution_count": 105,
   "id": "724399b3",
   "metadata": {},
   "outputs": [
    {
     "data": {
      "text/plain": [
       "53.15217391304348"
      ]
     },
     "execution_count": 105,
     "metadata": {},
     "output_type": "execute_result"
    }
   ],
   "source": [
    "489/920*100"
   ]
  },
  {
   "cell_type": "code",
   "execution_count": 106,
   "id": "cd32394f",
   "metadata": {},
   "outputs": [],
   "source": [
    "delivery = pd.read_csv(r\"C:\\Users\\asdd\\Desktop\\IPl_match_analysis\\IPL_Ball_by_Ball_2008_2022.csv\")"
   ]
  },
  {
   "cell_type": "code",
   "execution_count": 112,
   "id": "5999f4e4",
   "metadata": {},
   "outputs": [
    {
     "data": {
      "text/html": [
       "<div>\n",
       "<style scoped>\n",
       "    .dataframe tbody tr th:only-of-type {\n",
       "        vertical-align: middle;\n",
       "    }\n",
       "\n",
       "    .dataframe tbody tr th {\n",
       "        vertical-align: top;\n",
       "    }\n",
       "\n",
       "    .dataframe thead th {\n",
       "        text-align: right;\n",
       "    }\n",
       "</style>\n",
       "<table border=\"1\" class=\"dataframe\">\n",
       "  <thead>\n",
       "    <tr style=\"text-align: right;\">\n",
       "      <th></th>\n",
       "      <th>ID</th>\n",
       "      <th>innings</th>\n",
       "      <th>overs</th>\n",
       "      <th>ballnumber</th>\n",
       "      <th>batter</th>\n",
       "      <th>bowler</th>\n",
       "      <th>non-striker</th>\n",
       "      <th>extra_type</th>\n",
       "      <th>batsman_run</th>\n",
       "      <th>extras_run</th>\n",
       "      <th>total_run</th>\n",
       "      <th>non_boundary</th>\n",
       "      <th>isWicketDelivery</th>\n",
       "      <th>player_out</th>\n",
       "      <th>kind</th>\n",
       "      <th>fielders_involved</th>\n",
       "      <th>BattingTeam</th>\n",
       "    </tr>\n",
       "  </thead>\n",
       "  <tbody>\n",
       "    <tr>\n",
       "      <th>0</th>\n",
       "      <td>1312200</td>\n",
       "      <td>1</td>\n",
       "      <td>0</td>\n",
       "      <td>1</td>\n",
       "      <td>YBK Jaiswal</td>\n",
       "      <td>Mohammed Shami</td>\n",
       "      <td>JC Buttler</td>\n",
       "      <td>NaN</td>\n",
       "      <td>0</td>\n",
       "      <td>0</td>\n",
       "      <td>0</td>\n",
       "      <td>0</td>\n",
       "      <td>0</td>\n",
       "      <td>NaN</td>\n",
       "      <td>NaN</td>\n",
       "      <td>NaN</td>\n",
       "      <td>Rajasthan Royals</td>\n",
       "    </tr>\n",
       "    <tr>\n",
       "      <th>1</th>\n",
       "      <td>1312200</td>\n",
       "      <td>1</td>\n",
       "      <td>0</td>\n",
       "      <td>2</td>\n",
       "      <td>YBK Jaiswal</td>\n",
       "      <td>Mohammed Shami</td>\n",
       "      <td>JC Buttler</td>\n",
       "      <td>legbyes</td>\n",
       "      <td>0</td>\n",
       "      <td>1</td>\n",
       "      <td>1</td>\n",
       "      <td>0</td>\n",
       "      <td>0</td>\n",
       "      <td>NaN</td>\n",
       "      <td>NaN</td>\n",
       "      <td>NaN</td>\n",
       "      <td>Rajasthan Royals</td>\n",
       "    </tr>\n",
       "    <tr>\n",
       "      <th>2</th>\n",
       "      <td>1312200</td>\n",
       "      <td>1</td>\n",
       "      <td>0</td>\n",
       "      <td>3</td>\n",
       "      <td>JC Buttler</td>\n",
       "      <td>Mohammed Shami</td>\n",
       "      <td>YBK Jaiswal</td>\n",
       "      <td>NaN</td>\n",
       "      <td>1</td>\n",
       "      <td>0</td>\n",
       "      <td>1</td>\n",
       "      <td>0</td>\n",
       "      <td>0</td>\n",
       "      <td>NaN</td>\n",
       "      <td>NaN</td>\n",
       "      <td>NaN</td>\n",
       "      <td>Rajasthan Royals</td>\n",
       "    </tr>\n",
       "    <tr>\n",
       "      <th>3</th>\n",
       "      <td>1312200</td>\n",
       "      <td>1</td>\n",
       "      <td>0</td>\n",
       "      <td>4</td>\n",
       "      <td>YBK Jaiswal</td>\n",
       "      <td>Mohammed Shami</td>\n",
       "      <td>JC Buttler</td>\n",
       "      <td>NaN</td>\n",
       "      <td>0</td>\n",
       "      <td>0</td>\n",
       "      <td>0</td>\n",
       "      <td>0</td>\n",
       "      <td>0</td>\n",
       "      <td>NaN</td>\n",
       "      <td>NaN</td>\n",
       "      <td>NaN</td>\n",
       "      <td>Rajasthan Royals</td>\n",
       "    </tr>\n",
       "    <tr>\n",
       "      <th>4</th>\n",
       "      <td>1312200</td>\n",
       "      <td>1</td>\n",
       "      <td>0</td>\n",
       "      <td>5</td>\n",
       "      <td>YBK Jaiswal</td>\n",
       "      <td>Mohammed Shami</td>\n",
       "      <td>JC Buttler</td>\n",
       "      <td>NaN</td>\n",
       "      <td>0</td>\n",
       "      <td>0</td>\n",
       "      <td>0</td>\n",
       "      <td>0</td>\n",
       "      <td>0</td>\n",
       "      <td>NaN</td>\n",
       "      <td>NaN</td>\n",
       "      <td>NaN</td>\n",
       "      <td>Rajasthan Royals</td>\n",
       "    </tr>\n",
       "  </tbody>\n",
       "</table>\n",
       "</div>"
      ],
      "text/plain": [
       "        ID  innings  overs  ballnumber       batter          bowler  \\\n",
       "0  1312200        1      0           1  YBK Jaiswal  Mohammed Shami   \n",
       "1  1312200        1      0           2  YBK Jaiswal  Mohammed Shami   \n",
       "2  1312200        1      0           3   JC Buttler  Mohammed Shami   \n",
       "3  1312200        1      0           4  YBK Jaiswal  Mohammed Shami   \n",
       "4  1312200        1      0           5  YBK Jaiswal  Mohammed Shami   \n",
       "\n",
       "   non-striker extra_type  batsman_run  extras_run  total_run  non_boundary  \\\n",
       "0   JC Buttler        NaN            0           0          0             0   \n",
       "1   JC Buttler    legbyes            0           1          1             0   \n",
       "2  YBK Jaiswal        NaN            1           0          1             0   \n",
       "3   JC Buttler        NaN            0           0          0             0   \n",
       "4   JC Buttler        NaN            0           0          0             0   \n",
       "\n",
       "   isWicketDelivery player_out kind fielders_involved       BattingTeam  \n",
       "0                 0        NaN  NaN               NaN  Rajasthan Royals  \n",
       "1                 0        NaN  NaN               NaN  Rajasthan Royals  \n",
       "2                 0        NaN  NaN               NaN  Rajasthan Royals  \n",
       "3                 0        NaN  NaN               NaN  Rajasthan Royals  \n",
       "4                 0        NaN  NaN               NaN  Rajasthan Royals  "
      ]
     },
     "execution_count": 112,
     "metadata": {},
     "output_type": "execute_result"
    }
   ],
   "source": [
    "delivery.head()"
   ]
  },
  {
   "cell_type": "code",
   "execution_count": 113,
   "id": "675102df",
   "metadata": {},
   "outputs": [
    {
     "data": {
      "text/plain": [
       "array([1312200, 1312199, 1312198, 1312197, 1304116, 1304115, 1304114,\n",
       "       1304113, 1304112, 1304111, 1304110, 1304109, 1304108, 1304107,\n",
       "       1304106, 1304105, 1304104, 1304103, 1304102, 1304101, 1304100,\n",
       "       1304099, 1304098, 1304097, 1304096, 1304095, 1304094, 1304093,\n",
       "       1304092, 1304091, 1304090, 1304089, 1304088, 1304087, 1304086,\n",
       "       1304085, 1304084, 1304083, 1304082, 1304081, 1304080, 1304079,\n",
       "       1304078, 1304077, 1304076, 1304075, 1304074, 1304073, 1304072,\n",
       "       1304071, 1304070, 1304069, 1304068, 1304067, 1304066, 1304065,\n",
       "       1304064, 1304063, 1304062, 1304061, 1304060, 1304059, 1304058,\n",
       "       1304057, 1304056, 1304055, 1304054, 1304053, 1304052, 1304051,\n",
       "       1304050, 1304049, 1304048, 1304047, 1254117, 1254116, 1254115,\n",
       "       1254114, 1254113, 1254112, 1254111, 1254110, 1254109, 1254108,\n",
       "       1254107, 1254106, 1254105, 1254104, 1254103, 1254102, 1254101,\n",
       "       1254100, 1254099, 1254098, 1254097, 1254096, 1254095, 1254094,\n",
       "       1254093, 1254092, 1254091, 1254090, 1254089, 1254088, 1254087,\n",
       "       1254086, 1254085, 1254084, 1254083, 1254082, 1254081, 1254080,\n",
       "       1254079, 1254078, 1254077, 1254076, 1254075, 1254074, 1254073,\n",
       "       1254072, 1254071, 1254070, 1254069, 1254068, 1254067, 1254066,\n",
       "       1254065, 1254064, 1254063, 1254062, 1254061, 1254060, 1254059,\n",
       "       1254058, 1237181, 1237180, 1237178, 1237177, 1216547, 1216546,\n",
       "       1216545, 1216544, 1216543, 1216542, 1216541, 1216540, 1216539,\n",
       "       1216538, 1216537, 1216536, 1216535, 1216534, 1216533, 1216532,\n",
       "       1216531, 1216530, 1216529, 1216528, 1216527, 1216526, 1216525,\n",
       "       1216524, 1216523, 1216522, 1216521, 1216520, 1216519, 1216518,\n",
       "       1216517, 1216516, 1216515, 1216514, 1216513, 1216512, 1216511,\n",
       "       1216510, 1216509, 1216508, 1216507, 1216506, 1216505, 1216504,\n",
       "       1216503, 1216502, 1216501, 1216500, 1216499, 1216498, 1216497,\n",
       "       1216496, 1216495, 1216494, 1216493, 1216492, 1181768, 1181767,\n",
       "       1181766, 1181764, 1178431, 1178430, 1178429, 1178428, 1178427,\n",
       "       1178426, 1178425, 1178424, 1178423, 1178422, 1178421, 1178420,\n",
       "       1178419, 1178418, 1178417, 1178416, 1178415, 1178414, 1178413,\n",
       "       1178412, 1178411, 1178410, 1178409, 1178408, 1178407, 1178406,\n",
       "       1178405, 1178404, 1178403, 1178402, 1178401, 1178400, 1178399,\n",
       "       1178398, 1178397, 1178396, 1178395, 1178394, 1178393, 1175372,\n",
       "       1175371, 1175370, 1175369, 1175368, 1175367, 1175366, 1175365,\n",
       "       1175364, 1175363, 1175362, 1175361, 1175360, 1175359, 1175358,\n",
       "       1175357, 1175356, 1136620, 1136619, 1136618, 1136617, 1136616,\n",
       "       1136615, 1136614, 1136613, 1136612, 1136611, 1136610, 1136609,\n",
       "       1136608, 1136607, 1136606, 1136605, 1136604, 1136603, 1136602,\n",
       "       1136601, 1136600, 1136599, 1136598, 1136597, 1136596, 1136595,\n",
       "       1136594, 1136593, 1136592, 1136591, 1136590, 1136589, 1136588,\n",
       "       1136587, 1136586, 1136585, 1136584, 1136583, 1136582, 1136581,\n",
       "       1136580, 1136579, 1136578, 1136577, 1136576, 1136575, 1136574,\n",
       "       1136573, 1136572, 1136571, 1136570, 1136569, 1136568, 1136567,\n",
       "       1136566, 1136565, 1136564, 1136563, 1136562, 1136561, 1082650,\n",
       "       1082649, 1082648, 1082647, 1082646, 1082645, 1082644, 1082643,\n",
       "       1082642, 1082641, 1082640, 1082639, 1082638, 1082637, 1082636,\n",
       "       1082635, 1082634, 1082633, 1082632, 1082631, 1082630, 1082629,\n",
       "       1082628, 1082627, 1082626, 1082625, 1082624, 1082623, 1082622,\n",
       "       1082621, 1082620, 1082618, 1082617, 1082616, 1082615, 1082614,\n",
       "       1082613, 1082612, 1082611, 1082610, 1082609, 1082608, 1082607,\n",
       "       1082606, 1082605, 1082604, 1082603, 1082602, 1082601, 1082600,\n",
       "       1082599, 1082598, 1082597, 1082596, 1082595, 1082594, 1082593,\n",
       "       1082592, 1082591,  981019,  981017,  981015,  981013,  981011,\n",
       "        981009,  981007,  981005,  981003,  981001,  980999,  980997,\n",
       "        980995,  980993,  980991,  980989,  980987,  980985,  980983,\n",
       "        980981,  980979,  980977,  980975,  980973,  980971,  980969,\n",
       "        980967,  980965,  980963,  980961,  980959,  980957,  980955,\n",
       "        980953,  980951,  980949,  980947,  980945,  980943,  980941,\n",
       "        980939,  980937,  980935,  980933,  980931,  980929,  980927,\n",
       "        980925,  980923,  980921,  980919,  980917,  980915,  980913,\n",
       "        980911,  980909,  980907,  980905,  980903,  980901,  829823,\n",
       "        829821,  829819,  829817,  829815,  829813,  829811,  829809,\n",
       "        829807,  829805,  829803,  829801,  829799,  829797,  829795,\n",
       "        829793,  829791,  829789,  829787,  829785,  829783,  829781,\n",
       "        829779,  829777,  829775,  829773,  829771,  829769,  829767,\n",
       "        829765,  829763,  829761,  829759,  829757,  829753,  829751,\n",
       "        829749,  829747,  829745,  829743,  829741,  829739,  829737,\n",
       "        829735,  829733,  829731,  829729,  829727,  829725,  829723,\n",
       "        829721,  829719,  829717,  829715,  829713,  829711,  829709,\n",
       "        829707,  829705,  734049,  734047,  734045,  734043,  734041,\n",
       "        734039,  734037,  734035,  734033,  734031,  734029,  734027,\n",
       "        734025,  734023,  734021,  734019,  734017,  734015,  734013,\n",
       "        734011,  734009,  734007,  734005,  734003,  734001,  733999,\n",
       "        733997,  733995,  733993,  733991,  733989,  733987,  733985,\n",
       "        733983,  733981,  733979,  733977,  733975,  733973,  733971,\n",
       "        729317,  729315,  729313,  729311,  729309,  729307,  729305,\n",
       "        729303,  729301,  729299,  729297,  729295,  729293,  729291,\n",
       "        729289,  729287,  729285,  729283,  729281,  729279,  598073,\n",
       "        598072,  598071,  598070,  598069,  598068,  598067,  598066,\n",
       "        598065,  598064,  598063,  598062,  598061,  598060,  598059,\n",
       "        598058,  598057,  598056,  598055,  598054,  598053,  598052,\n",
       "        598051,  598050,  598049,  598048,  598047,  598046,  598045,\n",
       "        598044,  598043,  598042,  598041,  598040,  598039,  598038,\n",
       "        598037,  598036,  598035,  598034,  598033,  598032,  598031,\n",
       "        598030,  598029,  598028,  598027,  598026,  598025,  598024,\n",
       "        598023,  598022,  598021,  598020,  598019,  598018,  598017,\n",
       "        598016,  598015,  598014,  598013,  598012,  598011,  598010,\n",
       "        598009,  598008,  598007,  598006,  598005,  598004,  598003,\n",
       "        598002,  598001,  598000,  597999,  597998,  548381,  548380,\n",
       "        548379,  548378,  548377,  548376,  548375,  548374,  548373,\n",
       "        548372,  548371,  548370,  548369,  548368,  548367,  548366,\n",
       "        548365,  548364,  548363,  548362,  548361,  548360,  548359,\n",
       "        548358,  548357,  548356,  548355,  548354,  548353,  548352,\n",
       "        548351,  548350,  548349,  548348,  548347,  548346,  548345,\n",
       "        548344,  548343,  548342,  548341,  548339,  548337,  548336,\n",
       "        548335,  548334,  548333,  548332,  548331,  548330,  548329,\n",
       "        548328,  548327,  548326,  548325,  548324,  548323,  548322,\n",
       "        548321,  548320,  548319,  548318,  548317,  548316,  548315,\n",
       "        548314,  548313,  548312,  548311,  548310,  548309,  548308,\n",
       "        548307,  548306,  501271,  501270,  501269,  501268,  501267,\n",
       "        501266,  501265,  501264,  501263,  501262,  501261,  501260,\n",
       "        501259,  501258,  501257,  501256,  501255,  501254,  501253,\n",
       "        501252,  501251,  501250,  501249,  501248,  501247,  501246,\n",
       "        501245,  501244,  501243,  501242,  501241,  501240,  501239,\n",
       "        501238,  501237,  501236,  501235,  501234,  501233,  501232,\n",
       "        501231,  501230,  501229,  501228,  501227,  501226,  501225,\n",
       "        501224,  501223,  501222,  501221,  501220,  501219,  501218,\n",
       "        501216,  501215,  501214,  501213,  501212,  501211,  501210,\n",
       "        501209,  501208,  501207,  501206,  501205,  501204,  501203,\n",
       "        501202,  501201,  501200,  501199,  501198,  419165,  419164,\n",
       "        419163,  419162,  419161,  419160,  419159,  419158,  419157,\n",
       "        419156,  419155,  419154,  419153,  419152,  419151,  419150,\n",
       "        419149,  419148,  419147,  419146,  419145,  419144,  419143,\n",
       "        419142,  419141,  419140,  419139,  419138,  419137,  419136,\n",
       "        419135,  419134,  419133,  419132,  419131,  419130,  419129,\n",
       "        419128,  419127,  419126,  419125,  419124,  419123,  419122,\n",
       "        419121,  419120,  419119,  419118,  419117,  419116,  419115,\n",
       "        419114,  419113,  419112,  419111,  419110,  419109,  419108,\n",
       "        419107,  419106,  392239,  392238,  392237,  392236,  392235,\n",
       "        392234,  392233,  392232,  392231,  392230,  392229,  392228,\n",
       "        392227,  392226,  392225,  392224,  392223,  392222,  392221,\n",
       "        392220,  392219,  392218,  392217,  392216,  392215,  392214,\n",
       "        392213,  392212,  392211,  392210,  392209,  392208,  392207,\n",
       "        392206,  392205,  392204,  392203,  392202,  392201,  392200,\n",
       "        392199,  392198,  392197,  392196,  392195,  392194,  392192,\n",
       "        392191,  392190,  392189,  392188,  392186,  392185,  392184,\n",
       "        392183,  392182,  392181,  336040,  336039,  336038,  336037,\n",
       "        336036,  336035,  336034,  336033,  336032,  336031,  336029,\n",
       "        336028,  336027,  336026,  336025,  336024,  336023,  336022,\n",
       "        336021,  336020,  336019,  336018,  336017,  336016,  336015,\n",
       "        336014,  336013,  336012,  336011,  336010,  336009,  336008,\n",
       "        336007,  336006,  336005,  336004,  336003,  336002,  336001,\n",
       "        336000,  335999,  335998,  335997,  335996,  335995,  335994,\n",
       "        335993,  335992,  335991,  335990,  335989,  335988,  335987,\n",
       "        335986,  335985,  335984,  335983,  335982], dtype=int64)"
      ]
     },
     "execution_count": 113,
     "metadata": {},
     "output_type": "execute_result"
    }
   ],
   "source": [
    "delivery[\"ID\"].unique()"
   ]
  },
  {
   "cell_type": "code",
   "execution_count": 118,
   "id": "81c21387",
   "metadata": {},
   "outputs": [],
   "source": [
    "#Final Match\n",
    "fm = delivery[delivery[\"ID\"]== 1312200]"
   ]
  },
  {
   "cell_type": "code",
   "execution_count": 120,
   "id": "725a960a",
   "metadata": {},
   "outputs": [
    {
     "data": {
      "text/plain": [
       "(233, 17)"
      ]
     },
     "execution_count": 120,
     "metadata": {},
     "output_type": "execute_result"
    }
   ],
   "source": [
    "fm.shape"
   ]
  },
  {
   "cell_type": "code",
   "execution_count": 122,
   "id": "bf72c86a",
   "metadata": {},
   "outputs": [],
   "source": [
    "#Rajhastan Royals\n",
    "rr = fm[fm[\"innings\"]==1]"
   ]
  },
  {
   "cell_type": "code",
   "execution_count": 123,
   "id": "bc91551a",
   "metadata": {},
   "outputs": [
    {
     "data": {
      "text/plain": [
       "0    52\n",
       "1    47\n",
       "4    11\n",
       "2     5\n",
       "6     4\n",
       "3     1\n",
       "Name: batsman_run, dtype: int64"
      ]
     },
     "execution_count": 123,
     "metadata": {},
     "output_type": "execute_result"
    }
   ],
   "source": [
    "rr[\"batsman_run\"].value_counts()"
   ]
  },
  {
   "cell_type": "code",
   "execution_count": 125,
   "id": "5fda1e86",
   "metadata": {},
   "outputs": [
    {
     "data": {
      "text/plain": [
       "caught               6\n",
       "caught and bowled    1\n",
       "run out              1\n",
       "bowled               1\n",
       "Name: kind, dtype: int64"
      ]
     },
     "execution_count": 125,
     "metadata": {},
     "output_type": "execute_result"
    }
   ],
   "source": [
    "rr[\"kind\"].value_counts()"
   ]
  },
  {
   "cell_type": "code",
   "execution_count": 126,
   "id": "2d95b9b6",
   "metadata": {},
   "outputs": [],
   "source": [
    "#Gujrat Titans\n",
    "gt = fm[fm[\"innings\"]==2]"
   ]
  },
  {
   "cell_type": "code",
   "execution_count": 128,
   "id": "7ef6db68",
   "metadata": {},
   "outputs": [
    {
     "data": {
      "text/html": [
       "<div>\n",
       "<style scoped>\n",
       "    .dataframe tbody tr th:only-of-type {\n",
       "        vertical-align: middle;\n",
       "    }\n",
       "\n",
       "    .dataframe tbody tr th {\n",
       "        vertical-align: top;\n",
       "    }\n",
       "\n",
       "    .dataframe thead th {\n",
       "        text-align: right;\n",
       "    }\n",
       "</style>\n",
       "<table border=\"1\" class=\"dataframe\">\n",
       "  <thead>\n",
       "    <tr style=\"text-align: right;\">\n",
       "      <th></th>\n",
       "      <th>ID</th>\n",
       "      <th>innings</th>\n",
       "      <th>overs</th>\n",
       "      <th>ballnumber</th>\n",
       "      <th>batter</th>\n",
       "      <th>bowler</th>\n",
       "      <th>non-striker</th>\n",
       "      <th>extra_type</th>\n",
       "      <th>batsman_run</th>\n",
       "      <th>extras_run</th>\n",
       "      <th>total_run</th>\n",
       "      <th>non_boundary</th>\n",
       "      <th>isWicketDelivery</th>\n",
       "      <th>player_out</th>\n",
       "      <th>kind</th>\n",
       "      <th>fielders_involved</th>\n",
       "      <th>BattingTeam</th>\n",
       "    </tr>\n",
       "  </thead>\n",
       "  <tbody>\n",
       "    <tr>\n",
       "      <th>120</th>\n",
       "      <td>1312200</td>\n",
       "      <td>2</td>\n",
       "      <td>0</td>\n",
       "      <td>1</td>\n",
       "      <td>WP Saha</td>\n",
       "      <td>TA Boult</td>\n",
       "      <td>Shubman Gill</td>\n",
       "      <td>NaN</td>\n",
       "      <td>0</td>\n",
       "      <td>0</td>\n",
       "      <td>0</td>\n",
       "      <td>0</td>\n",
       "      <td>0</td>\n",
       "      <td>NaN</td>\n",
       "      <td>NaN</td>\n",
       "      <td>NaN</td>\n",
       "      <td>Gujarat Titans</td>\n",
       "    </tr>\n",
       "    <tr>\n",
       "      <th>121</th>\n",
       "      <td>1312200</td>\n",
       "      <td>2</td>\n",
       "      <td>0</td>\n",
       "      <td>2</td>\n",
       "      <td>WP Saha</td>\n",
       "      <td>TA Boult</td>\n",
       "      <td>Shubman Gill</td>\n",
       "      <td>NaN</td>\n",
       "      <td>0</td>\n",
       "      <td>0</td>\n",
       "      <td>0</td>\n",
       "      <td>0</td>\n",
       "      <td>0</td>\n",
       "      <td>NaN</td>\n",
       "      <td>NaN</td>\n",
       "      <td>NaN</td>\n",
       "      <td>Gujarat Titans</td>\n",
       "    </tr>\n",
       "    <tr>\n",
       "      <th>122</th>\n",
       "      <td>1312200</td>\n",
       "      <td>2</td>\n",
       "      <td>0</td>\n",
       "      <td>3</td>\n",
       "      <td>WP Saha</td>\n",
       "      <td>TA Boult</td>\n",
       "      <td>Shubman Gill</td>\n",
       "      <td>NaN</td>\n",
       "      <td>1</td>\n",
       "      <td>0</td>\n",
       "      <td>1</td>\n",
       "      <td>0</td>\n",
       "      <td>0</td>\n",
       "      <td>NaN</td>\n",
       "      <td>NaN</td>\n",
       "      <td>NaN</td>\n",
       "      <td>Gujarat Titans</td>\n",
       "    </tr>\n",
       "    <tr>\n",
       "      <th>123</th>\n",
       "      <td>1312200</td>\n",
       "      <td>2</td>\n",
       "      <td>0</td>\n",
       "      <td>4</td>\n",
       "      <td>Shubman Gill</td>\n",
       "      <td>TA Boult</td>\n",
       "      <td>WP Saha</td>\n",
       "      <td>NaN</td>\n",
       "      <td>0</td>\n",
       "      <td>0</td>\n",
       "      <td>0</td>\n",
       "      <td>0</td>\n",
       "      <td>0</td>\n",
       "      <td>NaN</td>\n",
       "      <td>NaN</td>\n",
       "      <td>NaN</td>\n",
       "      <td>Gujarat Titans</td>\n",
       "    </tr>\n",
       "    <tr>\n",
       "      <th>124</th>\n",
       "      <td>1312200</td>\n",
       "      <td>2</td>\n",
       "      <td>0</td>\n",
       "      <td>5</td>\n",
       "      <td>Shubman Gill</td>\n",
       "      <td>TA Boult</td>\n",
       "      <td>WP Saha</td>\n",
       "      <td>NaN</td>\n",
       "      <td>0</td>\n",
       "      <td>0</td>\n",
       "      <td>0</td>\n",
       "      <td>0</td>\n",
       "      <td>0</td>\n",
       "      <td>NaN</td>\n",
       "      <td>NaN</td>\n",
       "      <td>NaN</td>\n",
       "      <td>Gujarat Titans</td>\n",
       "    </tr>\n",
       "  </tbody>\n",
       "</table>\n",
       "</div>"
      ],
      "text/plain": [
       "          ID  innings  overs  ballnumber        batter    bowler  \\\n",
       "120  1312200        2      0           1       WP Saha  TA Boult   \n",
       "121  1312200        2      0           2       WP Saha  TA Boult   \n",
       "122  1312200        2      0           3       WP Saha  TA Boult   \n",
       "123  1312200        2      0           4  Shubman Gill  TA Boult   \n",
       "124  1312200        2      0           5  Shubman Gill  TA Boult   \n",
       "\n",
       "      non-striker extra_type  batsman_run  extras_run  total_run  \\\n",
       "120  Shubman Gill        NaN            0           0          0   \n",
       "121  Shubman Gill        NaN            0           0          0   \n",
       "122  Shubman Gill        NaN            1           0          1   \n",
       "123       WP Saha        NaN            0           0          0   \n",
       "124       WP Saha        NaN            0           0          0   \n",
       "\n",
       "     non_boundary  isWicketDelivery player_out kind fielders_involved  \\\n",
       "120             0                 0        NaN  NaN               NaN   \n",
       "121             0                 0        NaN  NaN               NaN   \n",
       "122             0                 0        NaN  NaN               NaN   \n",
       "123             0                 0        NaN  NaN               NaN   \n",
       "124             0                 0        NaN  NaN               NaN   \n",
       "\n",
       "        BattingTeam  \n",
       "120  Gujarat Titans  \n",
       "121  Gujarat Titans  \n",
       "122  Gujarat Titans  \n",
       "123  Gujarat Titans  \n",
       "124  Gujarat Titans  "
      ]
     },
     "execution_count": 128,
     "metadata": {},
     "output_type": "execute_result"
    }
   ],
   "source": [
    "gt.head()"
   ]
  },
  {
   "cell_type": "code",
   "execution_count": 129,
   "id": "25fbb26a",
   "metadata": {},
   "outputs": [
    {
     "data": {
      "text/plain": [
       "0    51\n",
       "1    36\n",
       "2    12\n",
       "4    10\n",
       "6     4\n",
       "Name: batsman_run, dtype: int64"
      ]
     },
     "execution_count": 129,
     "metadata": {},
     "output_type": "execute_result"
    }
   ],
   "source": [
    "gt[\"batsman_run\"].value_counts()"
   ]
  },
  {
   "cell_type": "code",
   "execution_count": 130,
   "id": "29d094ed",
   "metadata": {},
   "outputs": [
    {
     "data": {
      "text/plain": [
       "caught    2\n",
       "bowled    1\n",
       "Name: kind, dtype: int64"
      ]
     },
     "execution_count": 130,
     "metadata": {},
     "output_type": "execute_result"
    }
   ],
   "source": [
    "gt[\"kind\"].value_counts()"
   ]
  },
  {
   "cell_type": "code",
   "execution_count": null,
   "id": "b197ba61",
   "metadata": {},
   "outputs": [],
   "source": []
  }
 ],
 "metadata": {
  "kernelspec": {
   "display_name": "Python 3 (ipykernel)",
   "language": "python",
   "name": "python3"
  },
  "language_info": {
   "codemirror_mode": {
    "name": "ipython",
    "version": 3
   },
   "file_extension": ".py",
   "mimetype": "text/x-python",
   "name": "python",
   "nbconvert_exporter": "python",
   "pygments_lexer": "ipython3",
   "version": "3.11.2"
  }
 },
 "nbformat": 4,
 "nbformat_minor": 5
}
